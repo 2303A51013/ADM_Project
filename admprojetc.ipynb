{
 "cells": [
  {
   "cell_type": "code",
   "execution_count": null,
   "metadata": {
    "id": "Ho-B3GvBFbkX"
   },
   "outputs": [],
   "source": [
    "import os\n",
    "import numpy as np\n",
    "import pandas as pd\n",
    "import matplotlib.pyplot as plt\n",
    "import seaborn as sns\n",
    "from datetime import datetime\n",
    "import warnings\n",
    "warnings.filterwarnings('ignore')\n",
    "from sklearn.preprocessing import MinMaxScaler\n",
    "from sklearn.linear_model import LinearRegression"
   ]
  },
  {
   "cell_type": "code",
   "execution_count": null,
   "metadata": {
    "colab": {
     "base_uri": "https://localhost:8080/"
    },
    "id": "bGMtJz0fYZ3D",
    "outputId": "21d410ef-1a6e-4a43-a84f-01089c9fc793"
   },
   "outputs": [],
   "source": [
    "# import kagglehub\n",
    "# ronikdedhia_ipl_first_innings_score_path = kagglehub.dataset_download('ronikdedhia/ipl-first-innings-score')\n",
    "# print('Data source import complete.')"
   ]
  },
  {
   "cell_type": "code",
   "execution_count": null,
   "metadata": {
    "colab": {
     "base_uri": "https://localhost:8080/"
    },
    "id": "NHBKfuOxYims",
    "outputId": "76303b63-5506-40c0-b182-13afcc75aee8"
   },
   "outputs": [],
   "source": [
    "# for dirname, _, filenames in os.walk('/kaggle/input'):\n",
    "#     for filename in filenames:\n",
    "#         print(os.path.join(dirname, filename))"
   ]
  },
  {
   "cell_type": "code",
   "execution_count": null,
   "metadata": {
    "colab": {
     "base_uri": "https://localhost:8080/",
     "height": 417
    },
    "id": "FZhk3LlwFbkY",
    "outputId": "2753048b-e463-46ed-aaa6-3075f6295f4a"
   },
   "outputs": [],
   "source": [
    "df = pd.read_csv('C:/Users/DELL/Downloads/ipl_data.csv')\n",
    "df.head()"
   ]
  },
  {
   "cell_type": "code",
   "execution_count": null,
   "metadata": {
    "colab": {
     "base_uri": "https://localhost:8080/"
    },
    "id": "p8YRh-MtFbkY",
    "outputId": "d06c8aca-477e-401c-a259-7b15d09ae232"
   },
   "outputs": [],
   "source": [
    "print(\"Dimensions : \",df.shape) #tells us abt rows,columns\n",
    "df.dtypes #tells the data type of the items"
   ]
  },
  {
   "cell_type": "code",
   "execution_count": null,
   "metadata": {
    "colab": {
     "base_uri": "https://localhost:8080/"
    },
    "id": "-hxtQbqxFbkZ",
    "outputId": "d6dbac69-dc1a-471e-d5e6-a87f8d6215dc"
   },
   "outputs": [],
   "source": [
    "df.drop(labels=['mid', 'venue', 'batsman', 'bowler', 'striker', 'non-striker'], axis=1, inplace=True)\n",
    "print('After removing unwanted columns: {}'.format(df.shape))"
   ]
  },
  {
   "cell_type": "code",
   "execution_count": null,
   "metadata": {
    "colab": {
     "base_uri": "https://localhost:8080/"
    },
    "id": "cXJ1ZG-qFbkZ",
    "outputId": "a328eabb-c0f4-4e99-a2bd-5b5a70bb9ab6"
   },
   "outputs": [],
   "source": [
    "df['bat_team'].unique() #prints the unique teams"
   ]
  },
  {
   "cell_type": "code",
   "execution_count": null,
   "metadata": {
    "id": "YoiXO05VFbka"
   },
   "outputs": [],
   "source": [
    "consistent_teams = ['Kolkata Knight Riders', 'Chennai Super Kings', 'Rajasthan Royals',\n",
    "                    'Mumbai Indians', 'Kings XI Punjab', 'Royal Challengers Bangalore',\n",
    "                    'Delhi Daredevils', 'Sunrisers Hyderabad']"
   ]
  },
  {
   "cell_type": "code",
   "execution_count": null,
   "metadata": {
    "colab": {
     "base_uri": "https://localhost:8080/"
    },
    "id": "IpNlO2oFFbka",
    "outputId": "dce99dff-25cb-4c6c-f712-5d59d6895399"
   },
   "outputs": [],
   "source": [
    "df = df[(df['bat_team'].isin(consistent_teams)) & (df['bowl_team'].isin(consistent_teams))] #removes the inconsistents teams\n",
    "print('After removing inconsistent teams: {}'.format(df.shape))"
   ]
  },
  {
   "cell_type": "code",
   "execution_count": null,
   "metadata": {
    "colab": {
     "base_uri": "https://localhost:8080/"
    },
    "id": "LYJRC66dFbkb",
    "outputId": "e0deaf67-753b-4a0c-85a2-417596f94324"
   },
   "outputs": [],
   "source": [
    "df['bat_team'].unique() #unique teams in for battings"
   ]
  },
  {
   "cell_type": "code",
   "execution_count": null,
   "metadata": {
    "colab": {
     "base_uri": "https://localhost:8080/"
    },
    "id": "FOKG6FcYFbkb",
    "outputId": "89f5adc2-07e9-49aa-8ba8-04b67f13fcc9"
   },
   "outputs": [],
   "source": [
    "df = df[df['overs']>=5.0] #removes teams teams overs having less then 5\n",
    "print('After removing first 5 overs data: {}'.format(df.shape))"
   ]
  },
  {
   "cell_type": "code",
   "execution_count": null,
   "metadata": {
    "colab": {
     "base_uri": "https://localhost:8080/",
     "height": 563
    },
    "id": "yWDkmGgXLJjj",
    "outputId": "d761771f-3746-42ce-f07d-62751baf374e"
   },
   "outputs": [],
   "source": [
    "scaler = MinMaxScaler(feature_range=(100, 200)) #it is done to normalize the data\n",
    "df['scaled_runs'] = scaler.fit_transform(df[['runs']]) #those scaled values are put on new column called sacled_runs\n",
    "total_scaled_runs = df.groupby('bat_team')['scaled_runs'].sum().reset_index() #calculating total run for each team reset is used to clean data frame\n",
    "plt.figure(figsize=(12, 6))\n",
    "ax = sns.barplot(data=total_scaled_runs, x='bat_team', y='scaled_runs', ci=None, palette='viridis') #using total_scaled_runs and adding color palette\n",
    "plt.title('Total Runs by Batting Team (Scaled)')\n",
    "plt.xticks(rotation=45, ha='right')\n",
    "plt.xlabel('Batting Team')\n",
    "plt.ylabel('Total Scaled Runs (100-200)')\n",
    "\n",
    "# for p in ax.patches:\n",
    "#     ax.annotate(format(p.get_height(), '.0f'),\n",
    "#                 (p.get_x() + p.get_width() / 2., p.get_height()),\n",
    "#                 ha='center', va='bottom',  # Changed vertical alignment for better readability\n",
    "#                 xytext=(0, 5), textcoords='offset points', fontsize=10, color='black') # Added color and adjusted position\n",
    "\n",
    "plt.show()"
   ]
  },
  {
   "cell_type": "code",
   "execution_count": null,
   "metadata": {
    "colab": {
     "base_uri": "https://localhost:8080/",
     "height": 607
    },
    "id": "Eyp0isjrL0aY",
    "outputId": "20b58f6f-d16b-4ba5-9510-07dcc217e8b0"
   },
   "outputs": [],
   "source": [
    "plt.figure(figsize=(10,6)) #graph or line plot between overs and total runs\n",
    "sns.lineplot(data=df, x='overs', y='total', estimator='mean', ci=None) #here estimator is used for taking the mean of total score for each over\n",
    "plt.title('Average Total Score Over Overs')\n",
    "plt.xlabel('Overs')\n",
    "plt.ylabel('Average Total Score')\n",
    "plt.grid(True) #for background grid\n",
    "plt.show()"
   ]
  },
  {
   "cell_type": "code",
   "execution_count": null,
   "metadata": {
    "colab": {
     "base_uri": "https://localhost:8080/",
     "height": 607
    },
    "id": "bJPv9VNVL51m",
    "outputId": "e1c16f22-03bd-40fa-a670-81f74ad291ca"
   },
   "outputs": [],
   "source": [
    "plt.figure(figsize=(10,6)) #graph or line plot between overs and wickets\n",
    "sns.lineplot(data=df, x='overs', y='wickets', estimator='sum', ci=None) #here estimator is used for taking the sum of to wickets for each over\n",
    "plt.title('Total Wickets per Over')\n",
    "plt.xlabel('Overs')\n",
    "plt.ylabel('Wickets')\n",
    "plt.grid(True)\n",
    "plt.show()"
   ]
  },
  {
   "cell_type": "code",
   "execution_count": null,
   "metadata": {
    "colab": {
     "base_uri": "https://localhost:8080/"
    },
    "id": "pDTRFQbWFbkb",
    "outputId": "c991ee22-e1da-4717-b215-60118064a55f"
   },
   "outputs": [],
   "source": [
    "df['date'] = df['date'].apply(lambda x: datetime.strptime(x, '%Y-%m-%d')) #data column in converted into class object for future uses in plotting\n",
    "print(\"After converting 'date' column from string to datetime object: {}\".format(type(df.iloc[0,0])))"
   ]
  },
  {
   "cell_type": "code",
   "execution_count": null,
   "metadata": {
    "colab": {
     "base_uri": "https://localhost:8080/"
    },
    "id": "SCkgYcYOFbkc",
    "outputId": "0d4a61cd-f00a-4566-a256-1833c162a91f"
   },
   "outputs": [],
   "source": [
    "#it cannot handle labels so it converts them into binary numbers 1 for present and 0 for not present for bowling and batting\n",
    "encoded_df = pd.get_dummies(data=df, columns=['bat_team', 'bowl_team'])\n",
    "encoded_df.columns #printing those columns"
   ]
  },
  {
   "cell_type": "code",
   "execution_count": null,
   "metadata": {
    "colab": {
     "base_uri": "https://localhost:8080/",
     "height": 607
    },
    "id": "coBvxwbYMJws",
    "outputId": "4f0b7a90-3dd1-4812-d693-0a5b28555d62"
   },
   "outputs": [],
   "source": [
    "plt.figure(figsize=(8,6)) #plot of runs scored in last 5 overs and final total score\n",
    "sns.scatterplot(data=df, x='runs_last_5', y='total', hue='bat_team') #hue is used for plotting of each team in diff color\n",
    "plt.title('Runs in Last 5 Overs vs Final Total')\n",
    "plt.xlabel('Runs in Last 5 Overs')\n",
    "plt.ylabel('Total Score')\n",
    "plt.show()"
   ]
  },
  {
   "cell_type": "code",
   "execution_count": null,
   "metadata": {
    "id": "jUed0yN7Fbkc"
   },
   "outputs": [],
   "source": [
    "encoded_df = encoded_df[['date', 'bat_team_Chennai Super Kings', 'bat_team_Delhi Daredevils', 'bat_team_Kings XI Punjab',\n",
    "              'bat_team_Kolkata Knight Riders', 'bat_team_Mumbai Indians', 'bat_team_Rajasthan Royals',\n",
    "              'bat_team_Royal Challengers Bangalore', 'bat_team_Sunrisers Hyderabad',\n",
    "              'bowl_team_Chennai Super Kings', 'bowl_team_Delhi Daredevils', 'bowl_team_Kings XI Punjab',\n",
    "              'bowl_team_Kolkata Knight Riders', 'bowl_team_Mumbai Indians', 'bowl_team_Rajasthan Royals',\n",
    "              'bowl_team_Royal Challengers Bangalore', 'bowl_team_Sunrisers Hyderabad',\n",
    "              'overs', 'runs', 'wickets', 'runs_last_5', 'wickets_last_5', 'total']]\n",
    "#changing the old encoded_df with a new order provided"
   ]
  },
  {
   "cell_type": "code",
   "execution_count": null,
   "metadata": {
    "colab": {
     "base_uri": "https://localhost:8080/"
    },
    "id": "v94VRyMGM-uy",
    "outputId": "28db7b60-c203-445b-aa6b-4fbd5e461442"
   },
   "outputs": [],
   "source": [
    "print(df.columns.tolist()) #after encoding,dropping and changes it prints the columns in order"
   ]
  },
  {
   "cell_type": "code",
   "execution_count": null,
   "metadata": {
    "colab": {
     "base_uri": "https://localhost:8080/"
    },
    "id": "vszcDy2KFbkc",
    "outputId": "1ac5abec-b880-4cc5-ac5d-41fc8de96725"
   },
   "outputs": [],
   "source": [
    "#here we are spliting the data into testing and training using date\n",
    "#using matchs upto 2016 as training and after 2017 for testing and dropping total(final score) as it is not needed\n",
    "X_train = encoded_df.drop(labels='total', axis=1)[encoded_df['date'].dt.year <= 2016]\n",
    "X_test = encoded_df.drop(labels='total', axis=1)[encoded_df['date'].dt.year >= 2017]\n",
    "#we are taking values from total for predicting the values for Y_trian,y_test\n",
    "y_train = encoded_df[encoded_df['date'].dt.year <= 2016]['total'].values\n",
    "y_test = encoded_df[encoded_df['date'].dt.year >= 2017]['total'].values\n",
    "#removing the date from x-testing,training as they are not needed for plot\n",
    "X_train.drop(labels='date', axis=True, inplace=True)\n",
    "X_test.drop(labels='date', axis=True, inplace=True)\n",
    "print(\"Training set : {} and Test set : {}\".format(X_train.shape, X_test.shape))"
   ]
  },
  {
   "cell_type": "code",
   "execution_count": null,
   "metadata": {
    "colab": {
     "base_uri": "https://localhost:8080/",
     "height": 607
    },
    "id": "fsw2CS-tNZvG",
    "outputId": "2a92e59c-f363-48fa-b9af-cfd977c03a4d"
   },
   "outputs": [],
   "source": [
    "plt.figure(figsize=(10,6)) #this is to plot heatmap btw numeric columns\n",
    "sns.heatmap(df.corr(numeric_only=True), annot=True, cmap='YlGnBu') #annot is used to print values inside the square\n",
    "plt.title('Correlation Matrix of Numerical Features')\n",
    "plt.show()"
   ]
  },
  {
   "cell_type": "code",
   "execution_count": null,
   "metadata": {
    "colab": {
     "base_uri": "https://localhost:8080/",
     "height": 80
    },
    "id": "3pf84s9NFbkc",
    "outputId": "8a6ade1a-3d28-4952-e70a-be7b8f0525c3"
   },
   "outputs": [],
   "source": [
    "linear_regressor = LinearRegression() #creating linear rergression model\n",
    "linear_regressor.fit(X_train,y_train) #training model using x_train and y_train"
   ]
  },
  {
   "cell_type": "code",
   "execution_count": null,
   "metadata": {
    "id": "bMdNXE_jFbkc"
   },
   "outputs": [],
   "source": [
    "y_pred_lr = linear_regressor.predict(X_test) #predicting on x_test"
   ]
  },
  {
   "cell_type": "code",
   "execution_count": null,
   "metadata": {
    "colab": {
     "base_uri": "https://localhost:8080/"
    },
    "id": "e-KYfIynFbkc",
    "outputId": "a925d598-50dc-4687-e371-456565d6145b"
   },
   "outputs": [],
   "source": [
    "from sklearn.metrics import mean_absolute_error as mae, mean_squared_error as mse, accuracy_score\n",
    "print(\"Mean Absolute Error: {}\".format(mae(y_test, y_pred_lr))) #to measure the avg magnitude of errors\n",
    "print(\"Mean Squared Error: {}\".format(mse(y_test, y_pred_lr))) #magnifies the big mistakes or errors\n",
    "print(\"Root Mean Squared Error: {}\".format(np.sqrt(mse(y_test, y_pred_lr)))) #puts back the original units(runs)"
   ]
  },
  {
   "cell_type": "code",
   "execution_count": null,
   "metadata": {
    "colab": {
     "base_uri": "https://localhost:8080/",
     "height": 80
    },
    "id": "7KjyfOmYFbkd",
    "outputId": "dd8b58a6-933e-4cc3-fd62-fdc03e245e6e"
   },
   "outputs": [],
   "source": [
    "from sklearn.tree import DecisionTreeRegressor\n",
    "decision_regressor = DecisionTreeRegressor() ##creating decision tree rergression model\n",
    "decision_regressor.fit(X_train,y_train) #training model using x_train and y_train"
   ]
  },
  {
   "cell_type": "code",
   "execution_count": null,
   "metadata": {
    "id": "-sGyl9fXFbkd"
   },
   "outputs": [],
   "source": [
    "y_pred_dt = decision_regressor.predict(X_test) #predicting x values using decision tree regression"
   ]
  },
  {
   "cell_type": "code",
   "execution_count": null,
   "metadata": {
    "colab": {
     "base_uri": "https://localhost:8080/"
    },
    "id": "HywFOFDMFbkd",
    "outputId": "664b60c7-dd77-49ea-a86e-9971770035ae"
   },
   "outputs": [],
   "source": [
    "print(\"Mean Absolute Error : {}\".format(mae(y_test, y_pred_dt)))\n",
    "print(\"Mean Squared Error : {}\".format(mse(y_test, y_pred_dt)))\n",
    "print(\"Root Mean Squared Error : {}\".format(np.sqrt(mse(y_test, y_pred_dt))))"
   ]
  },
  {
   "cell_type": "code",
   "execution_count": null,
   "metadata": {
    "colab": {
     "base_uri": "https://localhost:8080/",
     "height": 80
    },
    "id": "GjGWxbc2Fbkd",
    "outputId": "20d99c08-440e-43ae-ee77-85c677efd62b"
   },
   "outputs": [],
   "source": [
    "from sklearn.ensemble import RandomForestRegressor\n",
    "random_regressor = RandomForestRegressor() #creating random forest rergression model\n",
    "random_regressor.fit(X_train,y_train) #training model using x_train and y_train"
   ]
  },
  {
   "cell_type": "code",
   "execution_count": null,
   "metadata": {
    "id": "7YsXQnMfFbkd"
   },
   "outputs": [],
   "source": [
    "y_pred_rf = random_regressor.predict(X_test) #predicting x values using random forest regression"
   ]
  },
  {
   "cell_type": "code",
   "execution_count": null,
   "metadata": {
    "colab": {
     "base_uri": "https://localhost:8080/"
    },
    "id": "226m5fgkFbkd",
    "outputId": "3aaee30a-a570-45bf-9412-64712c7083b4"
   },
   "outputs": [],
   "source": [
    "print(\"Mean Absolute Error : {}\".format(mae(y_test, y_pred_rf)))\n",
    "print(\"Mean Squared Error : {}\".format(mse(y_test, y_pred_rf)))\n",
    "print(\"Root Mean Squared Error : {}\".format(np.sqrt(mse(y_test, y_pred_rf))))"
   ]
  },
  {
   "cell_type": "code",
   "execution_count": null,
   "metadata": {
    "id": "KMYPlpWyFbke"
   },
   "outputs": [],
   "source": [
    "#predicting the final score of teams IPL match batting&bowling with conditions\n",
    "#we use one-hot encoded vector for the batting team—only the matching team gets a 1,others get 0.8-teams so 8-binary codes\n",
    "#one-hot encoding tells the model exactly which team is playing,without implying any order or ranking\n",
    "def predict_score(batting_team='Chennai Super Kings', bowling_team='Mumbai Indians', overs=5.1, runs=50, wickets=0, runs_in_prev_5=50, wickets_in_prev_5=0):\n",
    "  temp_array = list() \n",
    "  if batting_team == 'Chennai Super Kings':\n",
    "    temp_array = temp_array + [1,0,0,0,0,0,0,0]\n",
    "  elif batting_team == 'Delhi Daredevils':\n",
    "    temp_array = temp_array + [0,1,0,0,0,0,0,0]\n",
    "  elif batting_team == 'Kings XI Punjab':\n",
    "    temp_array = temp_array + [0,0,1,0,0,0,0,0]\n",
    "  elif batting_team == 'Kolkata Knight Riders':\n",
    "    temp_array = temp_array + [0,0,0,1,0,0,0,0]\n",
    "  elif batting_team == 'Mumbai Indians':\n",
    "    temp_array = temp_array + [0,0,0,0,1,0,0,0]\n",
    "  elif batting_team == 'Rajasthan Royals':\n",
    "    temp_array = temp_array + [0,0,0,0,0,1,0,0]\n",
    "  elif batting_team == 'Royal Challengers Bangalore':\n",
    "    temp_array = temp_array + [0,0,0,0,0,0,1,0]\n",
    "  elif batting_team == 'Sunrisers Hyderabad':\n",
    "    temp_array = temp_array + [0,0,0,0,0,0,0,1]\n",
    "\n",
    "  if bowling_team == 'Chennai Super Kings':\n",
    "    temp_array = temp_array + [1,0,0,0,0,0,0,0]\n",
    "  elif bowling_team == 'Delhi Daredevils':\n",
    "    temp_array = temp_array + [0,1,0,0,0,0,0,0]\n",
    "  elif bowling_team == 'Kings XI Punjab':\n",
    "    temp_array = temp_array + [0,0,1,0,0,0,0,0]\n",
    "  elif bowling_team == 'Kolkata Knight Riders':\n",
    "    temp_array = temp_array + [0,0,0,1,0,0,0,0]\n",
    "  elif bowling_team == 'Mumbai Indians':\n",
    "    temp_array = temp_array + [0,0,0,0,1,0,0,0]\n",
    "  elif bowling_team == 'Rajasthan Royals':\n",
    "    temp_array = temp_array + [0,0,0,0,0,1,0,0]\n",
    "  elif bowling_team == 'Royal Challengers Bangalore':\n",
    "    temp_array = temp_array + [0,0,0,0,0,0,1,0]\n",
    "  elif bowling_team == 'Sunrisers Hyderabad':\n",
    "    temp_array = temp_array + [0,0,0,0,0,0,0,1]\n",
    "\n",
    "  temp_array = temp_array + [overs, runs, wickets, runs_in_prev_5, wickets_in_prev_5] #this is numerical features --> current runs,wickets lost,runs and wickets in last 5 overs\n",
    "  temp_array = np.array([temp_array]) #converting list to array\n",
    "  return int(linear_regressor.predict(temp_array)[0]) #makes prediction usiing linear regression model nad returns predicted final score as integer"
   ]
  },
  {
   "cell_type": "markdown",
   "metadata": {
    "id": "ybrwPSO0Fbke"
   },
   "source": [
    "Prediction 1 <br/>\n",
    "• Date: 16th April 2018<br/>\n",
    "• IPL : Season 11<br/>\n",
    "• Match number: 13<br/>\n",
    "• Teams: Kolkata Knight Riders vs. Delhi Daredevils<br/>\n",
    "• First Innings final score: 200/9<br/>"
   ]
  },
  {
   "cell_type": "code",
   "execution_count": null,
   "metadata": {
    "colab": {
     "base_uri": "https://localhost:8080/"
    },
    "id": "BXlXq-ALFbkg",
    "outputId": "d13e7932-feab-42be-fd84-955c487ec079"
   },
   "outputs": [],
   "source": [
    "#using the previous function for prediction of KKR vs DD\n",
    "final_score = predict_score(batting_team='Kolkata Knight Riders', bowling_team='Delhi Daredevils', overs=9.2, runs=79, wickets=2, runs_in_prev_5=60, wickets_in_prev_5=1)\n",
    "print(\"The final predicted score (range): {} to {}\".format(final_score-10, final_score+5))"
   ]
  },
  {
   "cell_type": "markdown",
   "metadata": {
    "id": "0kceZrPxFbkg"
   },
   "source": [
    "Prediction 2<br/>\n",
    "• Date: 7th May 2018<br/>\n",
    "• IPL : Season 11<br/>\n",
    "• Match number: 39<br/>\n",
    "• Teams: Sunrisers Hyderabad vs. Royal Challengers Bangalore<br/>\n",
    "• First Innings final score: 146/10<br/>"
   ]
  },
  {
   "cell_type": "code",
   "execution_count": null,
   "metadata": {
    "colab": {
     "base_uri": "https://localhost:8080/"
    },
    "id": "1-I-GxAOFbkg",
    "outputId": "cbab5103-5cd9-419c-f3b9-a221fc69eed6"
   },
   "outputs": [],
   "source": [
    "final_score = predict_score(batting_team='Sunrisers Hyderabad', bowling_team='Royal Challengers Bangalore', overs=10.5, runs=67, wickets=3, runs_in_prev_5=29, wickets_in_prev_5=1)\n",
    "print(\"The final predicted score (range): {} to {}\".format(final_score-10, final_score+5))"
   ]
  },
  {
   "cell_type": "markdown",
   "metadata": {
    "id": "qQ9ZArL0Fbkh"
   },
   "source": [
    "Prediction 3<br/>\n",
    "• Date: 17th May 2018<br/>\n",
    "• IPL : Season 11<br/>\n",
    "• Match number: 50<br/>\n",
    "• Teams: Mumbai Indians vs. Kings XI Punjab<br/>\n",
    "• First Innings final score: 186/8<br/>"
   ]
  },
  {
   "cell_type": "code",
   "execution_count": null,
   "metadata": {
    "colab": {
     "base_uri": "https://localhost:8080/"
    },
    "id": "uoAXKuAZFbkh",
    "outputId": "f37b7ffa-ae50-4114-b933-f13ca0a814b4"
   },
   "outputs": [],
   "source": [
    "final_score = predict_score(batting_team='Mumbai Indians', bowling_team='Kings XI Punjab', overs=14.1, runs=136, wickets=4, runs_in_prev_5=50, wickets_in_prev_5=0)\n",
    "print(\"The final predicted score (range): {} to {}\".format(final_score-10, final_score+5))"
   ]
  },
  {
   "cell_type": "markdown",
   "metadata": {
    "id": "PzvozVEKFbki"
   },
   "source": [
    "Prediction 4<br/>\n",
    "• Date: 30th March 2019<br/>\n",
    "• IPL : Season 12<br/>\n",
    "• Match number: 9<br/>\n",
    "• Teams: Mumbai Indians vs. Kings XI Punjab<br/>\n",
    "• First Innings final score: 176/7<br/>"
   ]
  },
  {
   "cell_type": "code",
   "execution_count": null,
   "metadata": {
    "colab": {
     "base_uri": "https://localhost:8080/"
    },
    "id": "sqiwr3ViFbkj",
    "outputId": "104ab898-55ed-4865-9e60-956bb5af993f"
   },
   "outputs": [],
   "source": [
    "final_score = predict_score(batting_team='Mumbai Indians', bowling_team='Kings XI Punjab', overs=12.3, runs=113, wickets=2, runs_in_prev_5=55, wickets_in_prev_5=0)\n",
    "print(\"The final predicted score (range): {} to {}\".format(final_score-10, final_score+5))"
   ]
  },
  {
   "cell_type": "markdown",
   "metadata": {
    "id": "guO1gdD_Fbkj"
   },
   "source": [
    "Prediction 5<br/>\n",
    "• Date: 11th April 2019<br/>\n",
    "• IPL : Season 12<br/>\n",
    "• Match number: 25<br/>\n",
    "• Teams: Rajasthan Royals vs. Chennai Super Kings<br/>\n",
    "• First Innings final score: 151/7<br/>"
   ]
  },
  {
   "cell_type": "code",
   "execution_count": null,
   "metadata": {
    "colab": {
     "base_uri": "https://localhost:8080/"
    },
    "id": "74wQAw5mFbkl",
    "outputId": "d5a916bc-f415-449f-ba8b-c84927c6116d"
   },
   "outputs": [],
   "source": [
    "final_score = predict_score(batting_team='Rajasthan Royals', bowling_team='Chennai Super Kings', overs=13.3, runs=92, wickets=5, runs_in_prev_5=27, wickets_in_prev_5=2)\n",
    "print(\"The final predicted score (range): {} to {}\".format(final_score-10, final_score+5))"
   ]
  },
  {
   "cell_type": "markdown",
   "metadata": {
    "id": "PkkFbQvFFbkl"
   },
   "source": [
    "Prediction 6<br/>\n",
    "• Date: 14th April 2019<br/>\n",
    "• IPL : Season 12<br/>\n",
    "• Match number: 30<br/>\n",
    "• Teams: Sunrisers Hyderabad vs. Delhi Daredevils<br/>\n",
    "• First Innings final score: 155/7<br/>"
   ]
  },
  {
   "cell_type": "code",
   "execution_count": null,
   "metadata": {
    "colab": {
     "base_uri": "https://localhost:8080/"
    },
    "id": "yd5FeW7yFbkl",
    "outputId": "0e287640-2712-4e66-9acc-7fab84ce8fbe"
   },
   "outputs": [],
   "source": [
    "final_score = predict_score(batting_team='Delhi Daredevils', bowling_team='Sunrisers Hyderabad', overs=11.5, runs=98, wickets=3, runs_in_prev_5=41, wickets_in_prev_5=1)\n",
    "print(\"The final predicted score (range): {} to {}\".format(final_score-10, final_score+5))"
   ]
  },
  {
   "cell_type": "markdown",
   "metadata": {
    "id": "bDAIkA_SFbkm"
   },
   "source": [
    "Prediction 7<br/>\n",
    "• Date: 10th May 2019<br/>\n",
    "• IPL : Season 12<br/>\n",
    "• Match number: 59 (Eliminator)<br/>\n",
    "• Teams: Delhi Daredevils vs. Chennai Super Kings<br/>\n",
    "• First Innings final score: 147/9<br/>"
   ]
  },
  {
   "cell_type": "code",
   "execution_count": null,
   "metadata": {
    "colab": {
     "base_uri": "https://localhost:8080/"
    },
    "id": "w7vb-Qj5Fbkm",
    "outputId": "362d1c10-5b20-45bc-c796-6bd3320e39ea"
   },
   "outputs": [],
   "source": [
    "final_score = predict_score(batting_team='Delhi Daredevils', bowling_team='Chennai Super Kings', overs=10.2, runs=68, wickets=3, runs_in_prev_5=29, wickets_in_prev_5=1)\n",
    "print(\"The final predicted score (range): {} to {}\".format(final_score-10, final_score+5))"
   ]
  },
  {
   "cell_type": "code",
   "execution_count": null,
   "metadata": {
    "colab": {
     "base_uri": "https://localhost:8080/"
    },
    "id": "mkEY7I2-G5Kd",
    "outputId": "53449c85-9e69-45c8-895f-49d928fabb3e"
   },
   "outputs": [],
   "source": [
    "# this is predicting the score in a dynamic way by entering values manualling\n",
    "def predict_score_dynamic():\n",
    "  batting_team = input(\"Enter the batting team: \")\n",
    "  bowling_team = input(\"Enter the bowling team: \")\n",
    "  overs = float(input(\"Enter the number of overs: \"))\n",
    "  runs = int(input(\"Enter the current runs: \"))\n",
    "  wickets = int(input(\"Enter the current wickets: \"))\n",
    "  runs_in_prev_5 = int(input(\"Enter runs scored in the last 5 overs: \"))\n",
    "  wickets_in_prev_5 = int(input(\"Enter wickets lost in the last 5 overs: \"))\n",
    "  temp_array = list()\n",
    "  teams = ['Chennai Super Kings', 'Delhi Daredevils', 'Kings XI Punjab',\n",
    "           'Kolkata Knight Riders', 'Mumbai Indians', 'Rajasthan Royals',\n",
    "           'Royal Challengers Bangalore', 'Sunrisers Hyderabad']\n",
    "  batting_team_index = teams.index(batting_team)\n",
    "  batting_team_encoding = [0] * len(teams)\n",
    "  batting_team_encoding[batting_team_index] = 1\n",
    "  temp_array.extend(batting_team_encoding)\n",
    "  bowling_team_index = teams.index(bowling_team)\n",
    "  bowling_team_encoding = [0] * len(teams)\n",
    "  bowling_team_encoding[bowling_team_index] = 1\n",
    "  temp_array.extend(bowling_team_encoding)\n",
    "  temp_array.extend([overs, runs, wickets, runs_in_prev_5, wickets_in_prev_5])\n",
    "  temp_array = np.array([temp_array])\n",
    "  predicted_score = int(linear_regressor.predict(temp_array)[0])\n",
    "  print(\"The final predicted score (range): {} to {}\".format(predicted_score - 10, predicted_score + 5))\n",
    "predict_score_dynamic()"
   ]
  },
  {
   "cell_type": "code",
   "execution_count": null,
   "metadata": {},
   "outputs": [],
   "source": []
  }
 ],
 "metadata": {
  "colab": {
   "provenance": []
  },
  "kernelspec": {
   "display_name": "Python 3 (ipykernel)",
   "language": "python",
   "name": "python3"
  },
  "language_info": {
   "codemirror_mode": {
    "name": "ipython",
    "version": 3
   },
   "file_extension": ".py",
   "mimetype": "text/x-python",
   "name": "python",
   "nbconvert_exporter": "python",
   "pygments_lexer": "ipython3",
   "version": "3.12.5"
  }
 },
 "nbformat": 4,
 "nbformat_minor": 4
}
